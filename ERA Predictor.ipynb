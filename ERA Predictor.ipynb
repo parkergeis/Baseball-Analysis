{
  "cells": [
    {
      "cell_type": "markdown",
      "metadata": {
        "id": "awvjBcxRC0G9"
      },
      "source": [
        "# Multiple Linear Regression - Predicting ERA"
      ]
    },
    {
      "cell_type": "code",
      "execution_count": 120,
      "metadata": {},
      "outputs": [],
      "source": [
        "import pandas as pd\n",
        "import numpy as np\n",
        "import pybaseball as pyb\n",
        "import matplotlib.pyplot as plt\n",
        "import statsmodels.api as sm\n",
        "from statsmodels.stats.outliers_influence import variance_inflation_factor \n",
        "\n",
        "pd.set_option(\"display.max_columns\", None)\n",
        "pd.set_option('display.max_colwidth', None)"
      ]
    },
    {
      "cell_type": "code",
      "execution_count": 121,
      "metadata": {},
      "outputs": [],
      "source": [
        "# Only going back to 2015 because that is the Statcast era\n",
        "import datetime\n",
        "today = datetime.date.today()\n",
        "year = today.year\n",
        "pitcherMetrics = pyb.pitching_stats(start_season=2015, end_season=(year-1), ind=1, qual = 50)"
      ]
    },
    {
      "cell_type": "code",
      "execution_count": 122,
      "metadata": {},
      "outputs": [],
      "source": [
        "# Selecting raw metrics and percentages. Did not include counting stats\n",
        "pitcherStats = pitcherMetrics[['ERA', 'K%', 'BB%', 'HR/9', 'GB%', 'FB%', 'LD%', 'IFFB%', 'CSW%', 'SwStr%', 'Soft%', 'Med%', 'Hard%', 'Barrel%', 'HardHit%', 'O-Swing%', 'Z-Swing%', 'Swing%', 'O-Contact%', 'Z-Contact%', 'Contact%', 'F-Strike%', 'Pull%', 'Cent%', 'Oppo%', 'CStr%']]"
      ]
    },
    {
      "cell_type": "code",
      "execution_count": 123,
      "metadata": {},
      "outputs": [],
      "source": [
        "# Split predictors and target\n",
        "X = pitcherStats.drop('ERA', axis=1)\n",
        "y = pitcherStats.ERA"
      ]
    },
    {
      "cell_type": "code",
      "execution_count": 124,
      "metadata": {},
      "outputs": [
        {
          "name": "stdout",
          "output_type": "stream",
          "text": [
            "                                 OLS Regression Results                                \n",
            "=======================================================================================\n",
            "Dep. Variable:                    ERA   R-squared (uncentered):                   0.972\n",
            "Model:                            OLS   Adj. R-squared (uncentered):              0.972\n",
            "Method:                 Least Squares   F-statistic:                              3855.\n",
            "Date:                Fri, 21 Jun 2024   Prob (F-statistic):                        0.00\n",
            "Time:                        08:53:55   Log-Likelihood:                         -2984.7\n",
            "No. Observations:                2812   AIC:                                      6019.\n",
            "Df Residuals:                    2787   BIC:                                      6168.\n",
            "Df Model:                          25                                                  \n",
            "Covariance Type:            nonrobust                                                  \n",
            "==============================================================================\n",
            "                 coef    std err          t      P>|t|      [0.025      0.975]\n",
            "------------------------------------------------------------------------------\n",
            "K%            -7.1587      0.538    -13.300      0.000      -8.214      -6.103\n",
            "BB%           11.5251      0.927     12.435      0.000       9.708      13.342\n",
            "HR/9           1.4378      0.044     32.353      0.000       1.351       1.525\n",
            "GB%          -22.2914     21.692     -1.028      0.304     -64.825      20.242\n",
            "FB%          -22.7350     21.693     -1.048      0.295     -65.270      19.800\n",
            "LD%          -15.2493     21.694     -0.703      0.482     -57.787      27.289\n",
            "IFFB%         -1.0348      0.422     -2.450      0.014      -1.863      -0.207\n",
            "CSW%           5.1153     26.083      0.196      0.845     -46.029      56.260\n",
            "SwStr%        11.8440     26.331      0.450      0.653     -39.787      63.475\n",
            "Soft%          8.2479     22.211      0.371      0.710     -35.304      51.800\n",
            "Med%           7.9486     22.193      0.358      0.720     -35.568      51.465\n",
            "Hard%          7.6675     22.192      0.346      0.730     -35.847      51.182\n",
            "Barrel%       -0.3693      1.003     -0.368      0.713      -2.337       1.598\n",
            "HardHit%       2.8960      0.410      7.063      0.000       2.092       3.700\n",
            "O-Swing%      -3.0880      1.776     -1.739      0.082      -6.570       0.394\n",
            "Z-Swing%      -3.8140      1.092     -3.491      0.000      -5.956      -1.672\n",
            "Swing%         0.2876      2.712      0.106      0.916      -5.030       5.606\n",
            "O-Contact%     0.4521      1.275      0.355      0.723      -2.047       2.952\n",
            "Z-Contact%     2.1107      2.105      1.002      0.316      -2.018       6.239\n",
            "Contact%       5.9809      4.576      1.307      0.191      -2.991      14.953\n",
            "F-Strike%      0.4469      0.455      0.981      0.326      -0.446       1.340\n",
            "Pull%         10.1217     22.410      0.452      0.652     -33.820      54.063\n",
            "Cent%         10.3917     22.413      0.464      0.643     -33.557      54.340\n",
            "Oppo%         10.6117     22.415      0.473      0.636     -33.340      54.563\n",
            "CStr%         -8.0501     26.130     -0.308      0.758     -59.287      43.187\n",
            "==============================================================================\n",
            "Omnibus:                      107.229   Durbin-Watson:                   1.518\n",
            "Prob(Omnibus):                  0.000   Jarque-Bera (JB):              146.415\n",
            "Skew:                           0.388   Prob(JB):                     1.61e-32\n",
            "Kurtosis:                       3.805   Cond. No.                     8.56e+03\n",
            "==============================================================================\n",
            "\n",
            "Notes:\n",
            "[1] R² is computed without centering (uncentered) since the model does not contain a constant.\n",
            "[2] Standard Errors assume that the covariance matrix of the errors is correctly specified.\n",
            "[3] The condition number is large, 8.56e+03. This might indicate that there are\n",
            "strong multicollinearity or other numerical problems.\n"
          ]
        }
      ],
      "source": [
        "# Initial model\n",
        "model = sm.OLS(y, X)\n",
        "results = model.fit()\n",
        "print(results.summary())"
      ]
    },
    {
      "cell_type": "code",
      "execution_count": 125,
      "metadata": {},
      "outputs": [
        {
          "name": "stdout",
          "output_type": "stream",
          "text": [
            "                                 OLS Regression Results                                \n",
            "=======================================================================================\n",
            "Dep. Variable:                    ERA   R-squared (uncentered):                   0.972\n",
            "Model:                            OLS   Adj. R-squared (uncentered):              0.972\n",
            "Method:                 Least Squares   F-statistic:                              4017.\n",
            "Date:                Fri, 21 Jun 2024   Prob (F-statistic):                        0.00\n",
            "Time:                        08:53:55   Log-Likelihood:                         -2984.7\n",
            "No. Observations:                2812   AIC:                                      6017.\n",
            "Df Residuals:                    2788   BIC:                                      6160.\n",
            "Df Model:                          24                                                  \n",
            "Covariance Type:            nonrobust                                                  \n",
            "==============================================================================\n",
            "                 coef    std err          t      P>|t|      [0.025      0.975]\n",
            "------------------------------------------------------------------------------\n",
            "K%            -7.1582      0.538    -13.302      0.000      -8.213      -6.103\n",
            "BB%           11.5135      0.920     12.511      0.000       9.709      13.318\n",
            "HR/9           1.4379      0.044     32.371      0.000       1.351       1.525\n",
            "GB%          -22.3452     21.682     -1.031      0.303     -64.859      20.169\n",
            "FB%          -22.7878     21.683     -1.051      0.293     -65.304      19.729\n",
            "LD%          -15.3046     21.684     -0.706      0.480     -57.823      27.213\n",
            "IFFB%         -1.0338      0.422     -2.449      0.014      -1.861      -0.206\n",
            "CSW%           5.2540     26.046      0.202      0.840     -45.817      56.325\n",
            "SwStr%        12.1376     26.181      0.464      0.643     -39.198      63.473\n",
            "Soft%          8.2308     22.207      0.371      0.711     -35.312      51.774\n",
            "Med%           7.9319     22.189      0.357      0.721     -35.576      51.440\n",
            "Hard%          7.6502     22.187      0.345      0.730     -35.855      51.156\n",
            "Barrel%       -0.3774      1.000     -0.377      0.706      -2.339       1.584\n",
            "HardHit%       2.8958      0.410      7.064      0.000       2.092       3.700\n",
            "O-Swing%      -2.9605      1.307     -2.265      0.024      -5.523      -0.398\n",
            "Z-Swing%      -3.7563      0.948     -3.964      0.000      -5.614      -1.898\n",
            "O-Contact%     0.3709      1.019      0.364      0.716      -1.626       2.368\n",
            "Z-Contact%     1.9799      1.706      1.160      0.246      -1.365       5.325\n",
            "Contact%       6.3947      2.390      2.676      0.007       1.709      11.080\n",
            "F-Strike%      0.4534      0.451      1.005      0.315      -0.431       1.338\n",
            "Pull%         10.0436     22.394      0.448      0.654     -33.866      53.954\n",
            "Cent%         10.3153     22.398      0.461      0.645     -33.603      54.233\n",
            "Oppo%         10.5371     22.400      0.470      0.638     -33.385      54.459\n",
            "CStr%         -8.1963     26.089     -0.314      0.753     -59.353      42.960\n",
            "==============================================================================\n",
            "Omnibus:                      107.230   Durbin-Watson:                   1.518\n",
            "Prob(Omnibus):                  0.000   Jarque-Bera (JB):              146.364\n",
            "Skew:                           0.388   Prob(JB):                     1.65e-32\n",
            "Kurtosis:                       3.805   Cond. No.                     8.39e+03\n",
            "==============================================================================\n",
            "\n",
            "Notes:\n",
            "[1] R² is computed without centering (uncentered) since the model does not contain a constant.\n",
            "[2] Standard Errors assume that the covariance matrix of the errors is correctly specified.\n",
            "[3] The condition number is large, 8.39e+03. This might indicate that there are\n",
            "strong multicollinearity or other numerical problems.\n"
          ]
        }
      ],
      "source": [
        "# Removed Swing% for highest p-value\n",
        "pitcherStats = pitcherMetrics[['ERA', 'K%', 'BB%', 'HR/9', 'GB%', 'FB%', 'LD%', 'IFFB%', 'CSW%', 'SwStr%', 'Soft%', 'Med%', 'Hard%', 'Barrel%', 'HardHit%', 'O-Swing%', 'Z-Swing%', 'O-Contact%', 'Z-Contact%', 'Contact%', 'F-Strike%', 'Pull%', 'Cent%', 'Oppo%', 'CStr%']]\n",
        "X = pitcherStats.drop('ERA', axis=1)\n",
        "y = pitcherStats.ERA\n",
        "model = sm.OLS(y, X)\n",
        "results = model.fit()\n",
        "print(results.summary())"
      ]
    },
    {
      "cell_type": "code",
      "execution_count": 126,
      "metadata": {},
      "outputs": [
        {
          "name": "stdout",
          "output_type": "stream",
          "text": [
            "                                 OLS Regression Results                                \n",
            "=======================================================================================\n",
            "Dep. Variable:                    ERA   R-squared (uncentered):                   0.972\n",
            "Model:                            OLS   Adj. R-squared (uncentered):              0.972\n",
            "Method:                 Least Squares   F-statistic:                              5067.\n",
            "Date:                Fri, 21 Jun 2024   Prob (F-statistic):                        0.00\n",
            "Time:                        08:53:55   Log-Likelihood:                         -2989.2\n",
            "No. Observations:                2812   AIC:                                      6016.\n",
            "Df Residuals:                    2793   BIC:                                      6129.\n",
            "Df Model:                          19                                                  \n",
            "Covariance Type:            nonrobust                                                  \n",
            "==============================================================================\n",
            "                 coef    std err          t      P>|t|      [0.025      0.975]\n",
            "------------------------------------------------------------------------------\n",
            "K%            -6.9982      0.534    -13.105      0.000      -8.045      -5.951\n",
            "BB%           11.0003      0.899     12.239      0.000       9.238      12.763\n",
            "HR/9           1.4353      0.043     33.453      0.000       1.351       1.519\n",
            "GB%          -15.3913     19.023     -0.809      0.419     -52.693      21.910\n",
            "FB%          -15.8965     19.024     -0.836      0.403     -53.200      21.407\n",
            "LD%           -8.5236     19.027     -0.448      0.654     -45.831      28.784\n",
            "IFFB%         -0.9595      0.392     -2.447      0.014      -1.728      -0.191\n",
            "Barrel%       -0.4823      0.997     -0.484      0.629      -2.438       1.473\n",
            "HardHit%       2.7104      0.353      7.674      0.000       2.018       3.403\n",
            "O-Swing%      -0.1578      0.836     -0.189      0.850      -1.798       1.482\n",
            "Z-Swing%      -2.4774      0.809     -3.061      0.002      -4.064      -0.890\n",
            "O-Contact%    -1.3777      0.797     -1.729      0.084      -2.940       0.185\n",
            "Z-Contact%    -1.0720      1.308     -0.820      0.412      -3.636       1.492\n",
            "Contact%       2.9332      1.993      1.472      0.141      -0.975       6.842\n",
            "F-Strike%      0.5815      0.449      1.296      0.195      -0.299       1.462\n",
            "Pull%         17.6096     19.033      0.925      0.355     -19.710      54.929\n",
            "Cent%         17.8991     19.030      0.941      0.347     -19.414      55.213\n",
            "Oppo%         18.2037     19.032      0.956      0.339     -19.115      55.522\n",
            "CStr%         -3.4374      1.699     -2.024      0.043      -6.768      -0.107\n",
            "==============================================================================\n",
            "Omnibus:                      109.604   Durbin-Watson:                   1.515\n",
            "Prob(Omnibus):                  0.000   Jarque-Bera (JB):              150.203\n",
            "Skew:                           0.393   Prob(JB):                     2.42e-33\n",
            "Kurtosis:                       3.816   Cond. No.                     7.82e+03\n",
            "==============================================================================\n",
            "\n",
            "Notes:\n",
            "[1] R² is computed without centering (uncentered) since the model does not contain a constant.\n",
            "[2] Standard Errors assume that the covariance matrix of the errors is correctly specified.\n",
            "[3] The condition number is large, 7.82e+03. This might indicate that there are\n",
            "strong multicollinearity or other numerical problems.\n"
          ]
        }
      ],
      "source": [
        "# Removed more high p values: CSW%, SwStr%, Soft%, Med%, Hard%\n",
        "pitcherStats = pitcherMetrics[['ERA', 'K%', 'BB%', 'HR/9', 'GB%', 'FB%', 'LD%', 'IFFB%', 'Barrel%', 'HardHit%', 'O-Swing%', 'Z-Swing%', 'O-Contact%', 'Z-Contact%', 'Contact%', 'F-Strike%', 'Pull%', 'Cent%', 'Oppo%', 'CStr%']]\n",
        "X = pitcherStats.drop('ERA', axis=1)\n",
        "y = pitcherStats.ERA\n",
        "model = sm.OLS(y, X)\n",
        "results = model.fit()\n",
        "print(results.summary())"
      ]
    },
    {
      "cell_type": "code",
      "execution_count": 127,
      "metadata": {},
      "outputs": [
        {
          "name": "stdout",
          "output_type": "stream",
          "text": [
            "                                 OLS Regression Results                                \n",
            "=======================================================================================\n",
            "Dep. Variable:                    ERA   R-squared (uncentered):                   0.972\n",
            "Model:                            OLS   Adj. R-squared (uncentered):              0.972\n",
            "Method:                 Least Squares   F-statistic:                              8740.\n",
            "Date:                Fri, 21 Jun 2024   Prob (F-statistic):                        0.00\n",
            "Time:                        08:53:55   Log-Likelihood:                         -2995.0\n",
            "No. Observations:                2812   AIC:                                      6012.\n",
            "Df Residuals:                    2801   BIC:                                      6077.\n",
            "Df Model:                          11                                                  \n",
            "Covariance Type:            nonrobust                                                  \n",
            "==============================================================================\n",
            "                 coef    std err          t      P>|t|      [0.025      0.975]\n",
            "------------------------------------------------------------------------------\n",
            "K%            -7.2591      0.253    -28.656      0.000      -7.756      -6.762\n",
            "BB%           11.1935      0.562     19.931      0.000      10.092      12.295\n",
            "HR/9           1.4348      0.037     38.408      0.000       1.362       1.508\n",
            "GB%           -6.8172      0.470    -14.505      0.000      -7.739      -5.896\n",
            "FB%           -7.4713      0.489    -15.270      0.000      -8.431      -6.512\n",
            "IFFB%         -1.0178      0.390     -2.606      0.009      -1.783      -0.252\n",
            "HardHit%       2.6127      0.293      8.903      0.000       2.037       3.188\n",
            "Z-Swing%      -1.1162      0.375     -2.973      0.003      -1.852      -0.380\n",
            "Pull%          8.3824      0.489     17.140      0.000       7.423       9.341\n",
            "Cent%          8.7179      0.527     16.541      0.000       7.684       9.751\n",
            "Oppo%          9.1048      0.523     17.393      0.000       8.078      10.131\n",
            "==============================================================================\n",
            "Omnibus:                      104.543   Durbin-Watson:                   1.511\n",
            "Prob(Omnibus):                  0.000   Jarque-Bera (JB):              141.073\n",
            "Skew:                           0.384   Prob(JB):                     2.33e-31\n",
            "Kurtosis:                       3.783   Cond. No.                         121.\n",
            "==============================================================================\n",
            "\n",
            "Notes:\n",
            "[1] R² is computed without centering (uncentered) since the model does not contain a constant.\n",
            "[2] Standard Errors assume that the covariance matrix of the errors is correctly specified.\n"
          ]
        }
      ],
      "source": [
        "# Drop O-Swing%, LD%, Barrel%, Z-Contact%, F-Strike%, CStr%, Contact%, O-Contact%\n",
        "pitcherStats = pitcherMetrics[['ERA', 'K%', 'BB%', 'HR/9', 'GB%', 'FB%', 'IFFB%', 'HardHit%', 'Z-Swing%', 'Pull%', 'Cent%', 'Oppo%']]\n",
        "X = pitcherStats.drop('ERA', axis=1)\n",
        "y = pitcherStats.ERA\n",
        "model = sm.OLS(y, X)\n",
        "results = model.fit()\n",
        "print(results.summary())"
      ]
    },
    {
      "cell_type": "code",
      "execution_count": 128,
      "metadata": {},
      "outputs": [
        {
          "name": "stdout",
          "output_type": "stream",
          "text": [
            "     feature         VIF\n",
            "0         K%   20.462780\n",
            "1        BB%   12.973104\n",
            "2       HR/9   12.124554\n",
            "3        GB%  248.967213\n",
            "4        FB%  181.489774\n",
            "5      IFFB%    9.568210\n",
            "6   HardHit%   63.612993\n",
            "7   Z-Swing%  370.605112\n",
            "8      Pull%  219.221791\n",
            "9      Cent%  193.104516\n",
            "10     Oppo%  102.241926\n"
          ]
        }
      ],
      "source": [
        "# VIF dataframe \n",
        "vif_data = pd.DataFrame() \n",
        "vif_data[\"feature\"] = X.columns \n",
        "  \n",
        "# Calculating VIF for each feature \n",
        "vif_data[\"VIF\"] = [variance_inflation_factor(X.values, i) \n",
        "                          for i in range(len(X.columns))] \n",
        "  \n",
        "print(vif_data)"
      ]
    },
    {
      "cell_type": "code",
      "execution_count": 129,
      "metadata": {},
      "outputs": [
        {
          "name": "stdout",
          "output_type": "stream",
          "text": [
            "                                 OLS Regression Results                                \n",
            "=======================================================================================\n",
            "Dep. Variable:                    ERA   R-squared (uncentered):                   0.972\n",
            "Model:                            OLS   Adj. R-squared (uncentered):              0.971\n",
            "Method:                 Least Squares   F-statistic:                              9586.\n",
            "Date:                Fri, 21 Jun 2024   Prob (F-statistic):                        0.00\n",
            "Time:                        08:53:56   Log-Likelihood:                         -2999.5\n",
            "No. Observations:                2812   AIC:                                      6019.\n",
            "Df Residuals:                    2802   BIC:                                      6078.\n",
            "Df Model:                          10                                                  \n",
            "Covariance Type:            nonrobust                                                  \n",
            "==============================================================================\n",
            "                 coef    std err          t      P>|t|      [0.025      0.975]\n",
            "------------------------------------------------------------------------------\n",
            "K%            -7.1647      0.252    -28.468      0.000      -7.658      -6.671\n",
            "BB%           11.5560      0.549     21.050      0.000      10.480      12.633\n",
            "HR/9           1.4388      0.037     38.486      0.000       1.366       1.512\n",
            "GB%           -6.8246      0.471    -14.501      0.000      -7.747      -5.902\n",
            "FB%           -7.6776      0.485    -15.830      0.000      -8.629      -6.727\n",
            "IFFB%         -1.0803      0.390     -2.767      0.006      -1.846      -0.315\n",
            "HardHit%       2.4430      0.288      8.475      0.000       1.878       3.008\n",
            "Pull%          7.7443      0.440     17.598      0.000       6.881       8.607\n",
            "Cent%          8.0648      0.480     16.810      0.000       7.124       9.006\n",
            "Oppo%          8.3607      0.460     18.159      0.000       7.458       9.264\n",
            "==============================================================================\n",
            "Omnibus:                      101.462   Durbin-Watson:                   1.507\n",
            "Prob(Omnibus):                  0.000   Jarque-Bera (JB):              137.079\n",
            "Skew:                           0.376   Prob(JB):                     1.71e-30\n",
            "Kurtosis:                       3.778   Cond. No.                         106.\n",
            "==============================================================================\n",
            "\n",
            "Notes:\n",
            "[1] R² is computed without centering (uncentered) since the model does not contain a constant.\n",
            "[2] Standard Errors assume that the covariance matrix of the errors is correctly specified.\n"
          ]
        }
      ],
      "source": [
        "# Multicollinearity is heavy, but that is expected because many percentages are directly affecting each other.\n",
        "# This will make interpreting coefficients IMPOSSIBLE\n",
        "# Removing Z-Swing% because it is the largest\n",
        "pitcherStats = pitcherMetrics[['ERA', 'K%', 'BB%', 'HR/9', 'GB%', 'FB%', 'IFFB%', 'HardHit%', 'Pull%', 'Cent%', 'Oppo%']]\n",
        "X = pitcherStats.drop('ERA', axis=1)\n",
        "y = pitcherStats.ERA\n",
        "model = sm.OLS(y, X)\n",
        "results = model.fit()\n",
        "print(results.summary())"
      ]
    },
    {
      "cell_type": "code",
      "execution_count": 130,
      "metadata": {},
      "outputs": [],
      "source": [
        "# Declare test set\n",
        "pitcherMetrics2024 = pyb.pitching_stats(start_season=year, end_season=year, ind=1, qual = 50)"
      ]
    },
    {
      "cell_type": "code",
      "execution_count": 131,
      "metadata": {},
      "outputs": [],
      "source": [
        "pitcherStats2024 = pitcherMetrics2024[['ERA', 'K%', 'BB%', 'HR/9', 'GB%', 'FB%', 'IFFB%', 'HardHit%', 'Pull%', 'Cent%', 'Oppo%']]\n",
        "X = pitcherStats2024.drop('ERA', axis=1)\n",
        "pred = results.predict(X)\n",
        "pitcherMetrics2024['predERA'] = pred\n",
        "pitcherMetrics2024['Diff'] = pitcherMetrics2024['predERA']-pitcherMetrics2024['ERA']\n",
        "pitcherMetrics2024 = pitcherMetrics2024[['Name', 'IDfg', 'Team', 'Age', 'ERA', 'predERA', 'Diff', 'K%', 'BB%', 'HR/9', 'GB%', 'FB%', 'IFFB%', 'HardHit%', 'Pull%', 'Cent%', 'Oppo%'] + [col for col in pitcherMetrics2024.columns if col not in ['Name', 'IDfg', 'Team', 'Age', 'ERA', 'predERA', 'Diff', 'K%', 'BB%', 'HR/9', 'GB%', 'FB%', 'IFFB%', 'HardHit%', 'Pull%', 'Cent%', 'Oppo%']]]"
      ]
    },
    {
      "cell_type": "code",
      "execution_count": 132,
      "metadata": {},
      "outputs": [
        {
          "data": {
            "text/plain": [
              "0.5929892227226587"
            ]
          },
          "execution_count": 132,
          "metadata": {},
          "output_type": "execute_result"
        }
      ],
      "source": [
        "# Average difference\n",
        "pitcherMetrics2024['Diff'].abs().mean()"
      ]
    },
    {
      "cell_type": "code",
      "execution_count": 137,
      "metadata": {},
      "outputs": [],
      "source": [
        "pitcherMetrics2024.to_csv('currYearPitching.csv')"
      ]
    }
  ],
  "metadata": {
    "colab": {
      "provenance": []
    },
    "kernelspec": {
      "display_name": "base",
      "language": "python",
      "name": "python3"
    },
    "language_info": {
      "codemirror_mode": {
        "name": "ipython",
        "version": 3
      },
      "file_extension": ".py",
      "mimetype": "text/x-python",
      "name": "python",
      "nbconvert_exporter": "python",
      "pygments_lexer": "ipython3",
      "version": "3.11.7"
    }
  },
  "nbformat": 4,
  "nbformat_minor": 0
}
